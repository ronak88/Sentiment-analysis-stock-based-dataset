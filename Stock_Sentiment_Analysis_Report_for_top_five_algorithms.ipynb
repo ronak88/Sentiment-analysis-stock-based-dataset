{
  "nbformat": 4,
  "nbformat_minor": 5,
  "metadata": {
    "kernelspec": {
      "display_name": "Python 3",
      "language": "python",
      "name": "python3"
    },
    "language_info": {
      "codemirror_mode": {
        "name": "ipython",
        "version": 3
      },
      "file_extension": ".py",
      "mimetype": "text/x-python",
      "name": "python",
      "nbconvert_exporter": "python",
      "pygments_lexer": "ipython3",
      "version": "3.9.1"
    },
    "colab": {
      "name": "Stock Sentiment Analysis Report  for top five algorithms.ipynb",
      "provenance": [],
      "collapsed_sections": [],
      "include_colab_link": true
    },
    "accelerator": "TPU"
  },
  "cells": [
    {
      "cell_type": "markdown",
      "metadata": {
        "id": "view-in-github",
        "colab_type": "text"
      },
      "source": [
        "<a href=\"https://colab.research.google.com/github/ronak88/Sentiment-analysis-stock-based-dataset/blob/main/Stock_Sentiment_Analysis_Report_for_top_five_algorithms.ipynb\" target=\"_parent\"><img src=\"https://colab.research.google.com/assets/colab-badge.svg\" alt=\"Open In Colab\"/></a>"
      ]
    },
    {
      "cell_type": "code",
      "metadata": {
        "colab": {
          "base_uri": "https://localhost:8080/"
        },
        "id": "dc350213",
        "outputId": "037f6707-5831-46bd-df55-8a27056552bc"
      },
      "source": [
        "import pandas as pd\n",
        "import nltk\n",
        "from nltk.stem import WordNetLemmatizer\n",
        "from nltk.stem.porter import PorterStemmer\n",
        "from nltk.corpus import stopwords\n",
        "nltk.download('stopwords')"
      ],
      "id": "dc350213",
      "execution_count": null,
      "outputs": [
        {
          "output_type": "stream",
          "text": [
            "[nltk_data] Downloading package stopwords to /root/nltk_data...\n",
            "[nltk_data]   Unzipping corpora/stopwords.zip.\n"
          ],
          "name": "stdout"
        },
        {
          "output_type": "execute_result",
          "data": {
            "text/plain": [
              "True"
            ]
          },
          "metadata": {
            "tags": []
          },
          "execution_count": 4
        }
      ]
    },
    {
      "cell_type": "code",
      "metadata": {
        "id": "pSKpLwjlpLxm"
      },
      "source": [
        "from joblib import dump,load"
      ],
      "id": "pSKpLwjlpLxm",
      "execution_count": null,
      "outputs": []
    },
    {
      "cell_type": "code",
      "metadata": {
        "id": "G00K0uw-Us1i"
      },
      "source": [
        "from sklearn.metrics import classification_report,confusion_matrix,accuracy_score"
      ],
      "id": "G00K0uw-Us1i",
      "execution_count": null,
      "outputs": []
    },
    {
      "cell_type": "code",
      "metadata": {
        "colab": {
          "base_uri": "https://localhost:8080/"
        },
        "id": "rqP8ceZHKOfb",
        "outputId": "4bb5a490-0724-4ef1-b662-313ee8b8666e"
      },
      "source": [
        "from google.colab import drive\n",
        "drive.mount('/content/drive')"
      ],
      "id": "rqP8ceZHKOfb",
      "execution_count": null,
      "outputs": [
        {
          "output_type": "stream",
          "text": [
            "Mounted at /content/drive\n"
          ],
          "name": "stdout"
        }
      ]
    },
    {
      "cell_type": "code",
      "metadata": {
        "id": "8a49061d"
      },
      "source": [
        "df = pd.read_csv('/content/drive/MyDrive/ml Data/Data.csv', encoding=\"ISO-8859-1\")\n",
        "# https://www.kaggle.com/aaron7sun/stocknews (data link)"
      ],
      "id": "8a49061d",
      "execution_count": null,
      "outputs": []
    },
    {
      "cell_type": "code",
      "metadata": {
        "colab": {
          "base_uri": "https://localhost:8080/",
          "height": 356
        },
        "id": "f98fcf7b",
        "outputId": "507afbb9-8ec5-487d-94c8-c6f2ddf878a6"
      },
      "source": [
        "df.head(2)"
      ],
      "id": "f98fcf7b",
      "execution_count": null,
      "outputs": [
        {
          "output_type": "execute_result",
          "data": {
            "text/html": [
              "<div>\n",
              "<style scoped>\n",
              "    .dataframe tbody tr th:only-of-type {\n",
              "        vertical-align: middle;\n",
              "    }\n",
              "\n",
              "    .dataframe tbody tr th {\n",
              "        vertical-align: top;\n",
              "    }\n",
              "\n",
              "    .dataframe thead th {\n",
              "        text-align: right;\n",
              "    }\n",
              "</style>\n",
              "<table border=\"1\" class=\"dataframe\">\n",
              "  <thead>\n",
              "    <tr style=\"text-align: right;\">\n",
              "      <th></th>\n",
              "      <th>Date</th>\n",
              "      <th>Label</th>\n",
              "      <th>Top1</th>\n",
              "      <th>Top2</th>\n",
              "      <th>Top3</th>\n",
              "      <th>Top4</th>\n",
              "      <th>Top5</th>\n",
              "      <th>Top6</th>\n",
              "      <th>Top7</th>\n",
              "      <th>Top8</th>\n",
              "      <th>Top9</th>\n",
              "      <th>Top10</th>\n",
              "      <th>Top11</th>\n",
              "      <th>Top12</th>\n",
              "      <th>Top13</th>\n",
              "      <th>Top14</th>\n",
              "      <th>Top15</th>\n",
              "      <th>Top16</th>\n",
              "      <th>Top17</th>\n",
              "      <th>Top18</th>\n",
              "      <th>Top19</th>\n",
              "      <th>Top20</th>\n",
              "      <th>Top21</th>\n",
              "      <th>Top22</th>\n",
              "      <th>Top23</th>\n",
              "      <th>Top24</th>\n",
              "      <th>Top25</th>\n",
              "    </tr>\n",
              "  </thead>\n",
              "  <tbody>\n",
              "    <tr>\n",
              "      <th>0</th>\n",
              "      <td>2000-01-03</td>\n",
              "      <td>0</td>\n",
              "      <td>A 'hindrance to operations': extracts from the...</td>\n",
              "      <td>Scorecard</td>\n",
              "      <td>Hughes' instant hit buoys Blues</td>\n",
              "      <td>Jack gets his skates on at ice-cold Alex</td>\n",
              "      <td>Chaos as Maracana builds up for United</td>\n",
              "      <td>Depleted Leicester prevail as Elliott spoils E...</td>\n",
              "      <td>Hungry Spurs sense rich pickings</td>\n",
              "      <td>Gunners so wide of an easy target</td>\n",
              "      <td>Derby raise a glass to Strupar's debut double</td>\n",
              "      <td>Southgate strikes, Leeds pay the penalty</td>\n",
              "      <td>Hammers hand Robson a youthful lesson</td>\n",
              "      <td>Saints party like it's 1999</td>\n",
              "      <td>Wear wolves have turned into lambs</td>\n",
              "      <td>Stump mike catches testy Gough's taunt</td>\n",
              "      <td>Langer escapes to hit 167</td>\n",
              "      <td>Flintoff injury piles on woe for England</td>\n",
              "      <td>Hunters threaten Jospin with new battle of the...</td>\n",
              "      <td>Kohl's successor drawn into scandal</td>\n",
              "      <td>The difference between men and women</td>\n",
              "      <td>Sara Denver, nurse turned solicitor</td>\n",
              "      <td>Diana's landmine crusade put Tories in a panic</td>\n",
              "      <td>Yeltsin's resignation caught opposition flat-f...</td>\n",
              "      <td>Russian roulette</td>\n",
              "      <td>Sold out</td>\n",
              "      <td>Recovering a title</td>\n",
              "    </tr>\n",
              "    <tr>\n",
              "      <th>1</th>\n",
              "      <td>2000-01-04</td>\n",
              "      <td>0</td>\n",
              "      <td>Scorecard</td>\n",
              "      <td>The best lake scene</td>\n",
              "      <td>Leader: German sleaze inquiry</td>\n",
              "      <td>Cheerio, boyo</td>\n",
              "      <td>The main recommendations</td>\n",
              "      <td>Has Cubie killed fees?</td>\n",
              "      <td>Has Cubie killed fees?</td>\n",
              "      <td>Has Cubie killed fees?</td>\n",
              "      <td>Hopkins 'furious' at Foster's lack of Hannibal...</td>\n",
              "      <td>Has Cubie killed fees?</td>\n",
              "      <td>A tale of two tails</td>\n",
              "      <td>I say what I like and I like what I say</td>\n",
              "      <td>Elbows, Eyes and Nipples</td>\n",
              "      <td>Task force to assess risk of asteroid collision</td>\n",
              "      <td>How I found myself at last</td>\n",
              "      <td>On the critical list</td>\n",
              "      <td>The timing of their lives</td>\n",
              "      <td>Dear doctor</td>\n",
              "      <td>Irish court halts IRA man's extradition to Nor...</td>\n",
              "      <td>Burundi peace initiative fades after rebels re...</td>\n",
              "      <td>PE points the way forward to the ECB</td>\n",
              "      <td>Campaigners keep up pressure on Nazi war crime...</td>\n",
              "      <td>Jane Ratcliffe</td>\n",
              "      <td>Yet more things you wouldn't know without the ...</td>\n",
              "      <td>Millennium bug fails to bite</td>\n",
              "    </tr>\n",
              "  </tbody>\n",
              "</table>\n",
              "</div>"
            ],
            "text/plain": [
              "         Date  ...                         Top25\n",
              "0  2000-01-03  ...            Recovering a title\n",
              "1  2000-01-04  ...  Millennium bug fails to bite\n",
              "\n",
              "[2 rows x 27 columns]"
            ]
          },
          "metadata": {
            "tags": []
          },
          "execution_count": 8
        }
      ]
    },
    {
      "cell_type": "code",
      "metadata": {
        "id": "1842f717"
      },
      "source": [
        "train_data = df[df['Date']<'20150101']\n",
        "test_data = df[df['Date']>'20141231']\n"
      ],
      "id": "1842f717",
      "execution_count": null,
      "outputs": []
    },
    {
      "cell_type": "code",
      "metadata": {
        "id": "aaa812f8"
      },
      "source": [
        "train_feature = train_data.iloc[:,2:27]\n",
        "train_feature.replace(\"[^a-zA-Z]\",\" \",regex=True,inplace=True)\n",
        "\n",
        "test_feature = test_data.iloc[:,2:27]\n",
        "test_feature.replace(\"[^a-zA-Z]\",\" \",regex=True,inplace=True)"
      ],
      "id": "aaa812f8",
      "execution_count": null,
      "outputs": []
    },
    {
      "cell_type": "code",
      "metadata": {
        "colab": {
          "base_uri": "https://localhost:8080/",
          "height": 374
        },
        "id": "f6b2b011",
        "outputId": "a90a31ea-e8ab-45d3-81bc-a173a8cf8a16"
      },
      "source": [
        "list1=[i for i in range(25)]\n",
        "new_index= [str(i) for i in list1]\n",
        "train_feature.columns = new_index\n",
        "test_feature.columns = new_index\n",
        "test_feature.head(2)\n",
        "# train_feature.head(2)"
      ],
      "id": "f6b2b011",
      "execution_count": null,
      "outputs": [
        {
          "output_type": "execute_result",
          "data": {
            "text/html": [
              "<div>\n",
              "<style scoped>\n",
              "    .dataframe tbody tr th:only-of-type {\n",
              "        vertical-align: middle;\n",
              "    }\n",
              "\n",
              "    .dataframe tbody tr th {\n",
              "        vertical-align: top;\n",
              "    }\n",
              "\n",
              "    .dataframe thead th {\n",
              "        text-align: right;\n",
              "    }\n",
              "</style>\n",
              "<table border=\"1\" class=\"dataframe\">\n",
              "  <thead>\n",
              "    <tr style=\"text-align: right;\">\n",
              "      <th></th>\n",
              "      <th>0</th>\n",
              "      <th>1</th>\n",
              "      <th>2</th>\n",
              "      <th>3</th>\n",
              "      <th>4</th>\n",
              "      <th>5</th>\n",
              "      <th>6</th>\n",
              "      <th>7</th>\n",
              "      <th>8</th>\n",
              "      <th>9</th>\n",
              "      <th>10</th>\n",
              "      <th>11</th>\n",
              "      <th>12</th>\n",
              "      <th>13</th>\n",
              "      <th>14</th>\n",
              "      <th>15</th>\n",
              "      <th>16</th>\n",
              "      <th>17</th>\n",
              "      <th>18</th>\n",
              "      <th>19</th>\n",
              "      <th>20</th>\n",
              "      <th>21</th>\n",
              "      <th>22</th>\n",
              "      <th>23</th>\n",
              "      <th>24</th>\n",
              "    </tr>\n",
              "  </thead>\n",
              "  <tbody>\n",
              "    <tr>\n",
              "      <th>3723</th>\n",
              "      <td>Most cases of cancer are the result of sheer b...</td>\n",
              "      <td>Iran dismissed United States efforts to fight ...</td>\n",
              "      <td>Poll  One in   Germans would join anti Muslim ...</td>\n",
              "      <td>UK royal family s Prince Andrew named in US la...</td>\n",
              "      <td>Some    asylum seekers refused to leave the bu...</td>\n",
              "      <td>Pakistani boat blows self up after India navy ...</td>\n",
              "      <td>Sweden hit by third mosque arson attack in a week</td>\n",
              "      <td>cars set alight during French New Year</td>\n",
              "      <td>Salaries for top CEOs rose twice as fast as av...</td>\n",
              "      <td>Norway violated equal pay law  judge says  Jud...</td>\n",
              "      <td>Imam wants radical recruiters of Muslim youth ...</td>\n",
              "      <td>Saudi Arabia beheaded    people in       the m...</td>\n",
              "      <td>A living hell  for slaves on remote South Kor...</td>\n",
              "      <td>Worlds     richest get richer  adding    bn in...</td>\n",
              "      <td>Rental Car Stereos Infringe Copyright  Music R...</td>\n",
              "      <td>Ukrainian minister threatens TV channel with c...</td>\n",
              "      <td>Palestinian President Mahmoud Abbas has entere...</td>\n",
              "      <td>Israeli security center publishes names of    ...</td>\n",
              "      <td>The year      was the deadliest year yet in Sy...</td>\n",
              "      <td>A Secret underground complex built by the Nazi...</td>\n",
              "      <td>Restrictions on Web Freedom a Major Global Iss...</td>\n",
              "      <td>Austrian journalist Erich Mchel delivered a pr...</td>\n",
              "      <td>Thousands of Ukraine nationalists march in Kiev</td>\n",
              "      <td>Chinas New Years Resolution  No More Harvestin...</td>\n",
              "      <td>Authorities Pull Plug on Russia s Last Politic...</td>\n",
              "    </tr>\n",
              "    <tr>\n",
              "      <th>3724</th>\n",
              "      <td>Moscow  gt Beijing high speed train will reduc...</td>\n",
              "      <td>Two ancient tombs were discovered in Egypt on ...</td>\n",
              "      <td>China complains to Pyongyang after N Korean so...</td>\n",
              "      <td>Scotland Headed Towards Being Fossil Fuel Free...</td>\n",
              "      <td>Prime Minister Shinzo Abe said Monday he will ...</td>\n",
              "      <td>Sex slave at centre of Prince Andrew scandal f...</td>\n",
              "      <td>Gay relative of Hamas founder faces deportatio...</td>\n",
              "      <td>The number of female drug addicts in Iran has ...</td>\n",
              "      <td>After Decades of Searching  the Causeway for t...</td>\n",
              "      <td>India lost    tigers in</td>\n",
              "      <td>Lizard Squad hacking of Sony was  huge marketi...</td>\n",
              "      <td>Russia  may face chaos  if extra sanctions imp...</td>\n",
              "      <td>The Saudi air and land forces carry out an att...</td>\n",
              "      <td>ISIL is reportedly setting up a bank in attemp...</td>\n",
              "      <td>Israel to brand anti assimilation group Lehava...</td>\n",
              "      <td>The Islamic State has approved a      budget o...</td>\n",
              "      <td>Iceland To Withdraw EU Application  Lift Capit...</td>\n",
              "      <td>Blackfield Capital Founder Goes Missing  The v...</td>\n",
              "      <td>Rocket stage crashes back to Earth in rural Ch...</td>\n",
              "      <td>Dead as Aircraft Bombs Greek Tanker in Libya...</td>\n",
              "      <td>Belgian murderer Frank Van Den Bleeken to die ...</td>\n",
              "      <td>Czech President criticizes Ukrainian PM  says ...</td>\n",
              "      <td>Vietnamese jets join search for    missing F...</td>\n",
              "      <td>France seeks end to Russia sanctions over Ukraine</td>\n",
              "      <td>China scraps rare earths caps</td>\n",
              "    </tr>\n",
              "  </tbody>\n",
              "</table>\n",
              "</div>"
            ],
            "text/plain": [
              "                                                      0  ...                                                 24\n",
              "3723  Most cases of cancer are the result of sheer b...  ...  Authorities Pull Plug on Russia s Last Politic...\n",
              "3724  Moscow  gt Beijing high speed train will reduc...  ...                      China scraps rare earths caps\n",
              "\n",
              "[2 rows x 25 columns]"
            ]
          },
          "metadata": {
            "tags": []
          },
          "execution_count": 11
        }
      ]
    },
    {
      "cell_type": "code",
      "metadata": {
        "id": "ac34d9eb"
      },
      "source": [
        "for column in new_index:\n",
        "    train_feature[column]= train_feature[column].str.lower()\n",
        "for index in new_index:\n",
        "    test_feature[index]= test_feature[index].str.lower()"
      ],
      "id": "ac34d9eb",
      "execution_count": null,
      "outputs": []
    },
    {
      "cell_type": "code",
      "metadata": {
        "colab": {
          "base_uri": "https://localhost:8080/",
          "height": 374
        },
        "id": "72ad8c55",
        "outputId": "5905f87a-3d9d-4acd-823d-bde73517b313"
      },
      "source": [
        "train_feature.head(2)"
      ],
      "id": "72ad8c55",
      "execution_count": null,
      "outputs": [
        {
          "output_type": "execute_result",
          "data": {
            "text/html": [
              "<div>\n",
              "<style scoped>\n",
              "    .dataframe tbody tr th:only-of-type {\n",
              "        vertical-align: middle;\n",
              "    }\n",
              "\n",
              "    .dataframe tbody tr th {\n",
              "        vertical-align: top;\n",
              "    }\n",
              "\n",
              "    .dataframe thead th {\n",
              "        text-align: right;\n",
              "    }\n",
              "</style>\n",
              "<table border=\"1\" class=\"dataframe\">\n",
              "  <thead>\n",
              "    <tr style=\"text-align: right;\">\n",
              "      <th></th>\n",
              "      <th>0</th>\n",
              "      <th>1</th>\n",
              "      <th>2</th>\n",
              "      <th>3</th>\n",
              "      <th>4</th>\n",
              "      <th>5</th>\n",
              "      <th>6</th>\n",
              "      <th>7</th>\n",
              "      <th>8</th>\n",
              "      <th>9</th>\n",
              "      <th>10</th>\n",
              "      <th>11</th>\n",
              "      <th>12</th>\n",
              "      <th>13</th>\n",
              "      <th>14</th>\n",
              "      <th>15</th>\n",
              "      <th>16</th>\n",
              "      <th>17</th>\n",
              "      <th>18</th>\n",
              "      <th>19</th>\n",
              "      <th>20</th>\n",
              "      <th>21</th>\n",
              "      <th>22</th>\n",
              "      <th>23</th>\n",
              "      <th>24</th>\n",
              "    </tr>\n",
              "  </thead>\n",
              "  <tbody>\n",
              "    <tr>\n",
              "      <th>0</th>\n",
              "      <td>a  hindrance to operations   extracts from the...</td>\n",
              "      <td>scorecard</td>\n",
              "      <td>hughes  instant hit buoys blues</td>\n",
              "      <td>jack gets his skates on at ice cold alex</td>\n",
              "      <td>chaos as maracana builds up for united</td>\n",
              "      <td>depleted leicester prevail as elliott spoils e...</td>\n",
              "      <td>hungry spurs sense rich pickings</td>\n",
              "      <td>gunners so wide of an easy target</td>\n",
              "      <td>derby raise a glass to strupar s debut double</td>\n",
              "      <td>southgate strikes  leeds pay the penalty</td>\n",
              "      <td>hammers hand robson a youthful lesson</td>\n",
              "      <td>saints party like it s</td>\n",
              "      <td>wear wolves have turned into lambs</td>\n",
              "      <td>stump mike catches testy gough s taunt</td>\n",
              "      <td>langer escapes to hit</td>\n",
              "      <td>flintoff injury piles on woe for england</td>\n",
              "      <td>hunters threaten jospin with new battle of the...</td>\n",
              "      <td>kohl s successor drawn into scandal</td>\n",
              "      <td>the difference between men and women</td>\n",
              "      <td>sara denver  nurse turned solicitor</td>\n",
              "      <td>diana s landmine crusade put tories in a panic</td>\n",
              "      <td>yeltsin s resignation caught opposition flat f...</td>\n",
              "      <td>russian roulette</td>\n",
              "      <td>sold out</td>\n",
              "      <td>recovering a title</td>\n",
              "    </tr>\n",
              "    <tr>\n",
              "      <th>1</th>\n",
              "      <td>scorecard</td>\n",
              "      <td>the best lake scene</td>\n",
              "      <td>leader  german sleaze inquiry</td>\n",
              "      <td>cheerio  boyo</td>\n",
              "      <td>the main recommendations</td>\n",
              "      <td>has cubie killed fees</td>\n",
              "      <td>has cubie killed fees</td>\n",
              "      <td>has cubie killed fees</td>\n",
              "      <td>hopkins  furious  at foster s lack of hannibal...</td>\n",
              "      <td>has cubie killed fees</td>\n",
              "      <td>a tale of two tails</td>\n",
              "      <td>i say what i like and i like what i say</td>\n",
              "      <td>elbows  eyes and nipples</td>\n",
              "      <td>task force to assess risk of asteroid collision</td>\n",
              "      <td>how i found myself at last</td>\n",
              "      <td>on the critical list</td>\n",
              "      <td>the timing of their lives</td>\n",
              "      <td>dear doctor</td>\n",
              "      <td>irish court halts ira man s extradition to nor...</td>\n",
              "      <td>burundi peace initiative fades after rebels re...</td>\n",
              "      <td>pe points the way forward to the ecb</td>\n",
              "      <td>campaigners keep up pressure on nazi war crime...</td>\n",
              "      <td>jane ratcliffe</td>\n",
              "      <td>yet more things you wouldn t know without the ...</td>\n",
              "      <td>millennium bug fails to bite</td>\n",
              "    </tr>\n",
              "  </tbody>\n",
              "</table>\n",
              "</div>"
            ],
            "text/plain": [
              "                                                   0  ...                            24\n",
              "0  a  hindrance to operations   extracts from the...  ...            recovering a title\n",
              "1                                          scorecard  ...  millennium bug fails to bite\n",
              "\n",
              "[2 rows x 25 columns]"
            ]
          },
          "metadata": {
            "tags": []
          },
          "execution_count": 13
        }
      ]
    },
    {
      "cell_type": "code",
      "metadata": {
        "colab": {
          "base_uri": "https://localhost:8080/",
          "height": 356
        },
        "id": "e530f917",
        "outputId": "25cf466a-873b-49ff-ad30-6d46e55434f5"
      },
      "source": [
        "test_feature.head(2)"
      ],
      "id": "e530f917",
      "execution_count": null,
      "outputs": [
        {
          "output_type": "execute_result",
          "data": {
            "text/html": [
              "<div>\n",
              "<style scoped>\n",
              "    .dataframe tbody tr th:only-of-type {\n",
              "        vertical-align: middle;\n",
              "    }\n",
              "\n",
              "    .dataframe tbody tr th {\n",
              "        vertical-align: top;\n",
              "    }\n",
              "\n",
              "    .dataframe thead th {\n",
              "        text-align: right;\n",
              "    }\n",
              "</style>\n",
              "<table border=\"1\" class=\"dataframe\">\n",
              "  <thead>\n",
              "    <tr style=\"text-align: right;\">\n",
              "      <th></th>\n",
              "      <th>0</th>\n",
              "      <th>1</th>\n",
              "      <th>2</th>\n",
              "      <th>3</th>\n",
              "      <th>4</th>\n",
              "      <th>5</th>\n",
              "      <th>6</th>\n",
              "      <th>7</th>\n",
              "      <th>8</th>\n",
              "      <th>9</th>\n",
              "      <th>10</th>\n",
              "      <th>11</th>\n",
              "      <th>12</th>\n",
              "      <th>13</th>\n",
              "      <th>14</th>\n",
              "      <th>15</th>\n",
              "      <th>16</th>\n",
              "      <th>17</th>\n",
              "      <th>18</th>\n",
              "      <th>19</th>\n",
              "      <th>20</th>\n",
              "      <th>21</th>\n",
              "      <th>22</th>\n",
              "      <th>23</th>\n",
              "      <th>24</th>\n",
              "    </tr>\n",
              "  </thead>\n",
              "  <tbody>\n",
              "    <tr>\n",
              "      <th>3723</th>\n",
              "      <td>most cases of cancer are the result of sheer b...</td>\n",
              "      <td>iran dismissed united states efforts to fight ...</td>\n",
              "      <td>poll  one in   germans would join anti muslim ...</td>\n",
              "      <td>uk royal family s prince andrew named in us la...</td>\n",
              "      <td>some    asylum seekers refused to leave the bu...</td>\n",
              "      <td>pakistani boat blows self up after india navy ...</td>\n",
              "      <td>sweden hit by third mosque arson attack in a week</td>\n",
              "      <td>cars set alight during french new year</td>\n",
              "      <td>salaries for top ceos rose twice as fast as av...</td>\n",
              "      <td>norway violated equal pay law  judge says  jud...</td>\n",
              "      <td>imam wants radical recruiters of muslim youth ...</td>\n",
              "      <td>saudi arabia beheaded    people in       the m...</td>\n",
              "      <td>a living hell  for slaves on remote south kor...</td>\n",
              "      <td>worlds     richest get richer  adding    bn in...</td>\n",
              "      <td>rental car stereos infringe copyright  music r...</td>\n",
              "      <td>ukrainian minister threatens tv channel with c...</td>\n",
              "      <td>palestinian president mahmoud abbas has entere...</td>\n",
              "      <td>israeli security center publishes names of    ...</td>\n",
              "      <td>the year      was the deadliest year yet in sy...</td>\n",
              "      <td>a secret underground complex built by the nazi...</td>\n",
              "      <td>restrictions on web freedom a major global iss...</td>\n",
              "      <td>austrian journalist erich mchel delivered a pr...</td>\n",
              "      <td>thousands of ukraine nationalists march in kiev</td>\n",
              "      <td>chinas new years resolution  no more harvestin...</td>\n",
              "      <td>authorities pull plug on russia s last politic...</td>\n",
              "    </tr>\n",
              "    <tr>\n",
              "      <th>3724</th>\n",
              "      <td>moscow  gt beijing high speed train will reduc...</td>\n",
              "      <td>two ancient tombs were discovered in egypt on ...</td>\n",
              "      <td>china complains to pyongyang after n korean so...</td>\n",
              "      <td>scotland headed towards being fossil fuel free...</td>\n",
              "      <td>prime minister shinzo abe said monday he will ...</td>\n",
              "      <td>sex slave at centre of prince andrew scandal f...</td>\n",
              "      <td>gay relative of hamas founder faces deportatio...</td>\n",
              "      <td>the number of female drug addicts in iran has ...</td>\n",
              "      <td>after decades of searching  the causeway for t...</td>\n",
              "      <td>india lost    tigers in</td>\n",
              "      <td>lizard squad hacking of sony was  huge marketi...</td>\n",
              "      <td>russia  may face chaos  if extra sanctions imp...</td>\n",
              "      <td>the saudi air and land forces carry out an att...</td>\n",
              "      <td>isil is reportedly setting up a bank in attemp...</td>\n",
              "      <td>israel to brand anti assimilation group lehava...</td>\n",
              "      <td>the islamic state has approved a      budget o...</td>\n",
              "      <td>iceland to withdraw eu application  lift capit...</td>\n",
              "      <td>blackfield capital founder goes missing  the v...</td>\n",
              "      <td>rocket stage crashes back to earth in rural ch...</td>\n",
              "      <td>dead as aircraft bombs greek tanker in libya...</td>\n",
              "      <td>belgian murderer frank van den bleeken to die ...</td>\n",
              "      <td>czech president criticizes ukrainian pm  says ...</td>\n",
              "      <td>vietnamese jets join search for    missing f...</td>\n",
              "      <td>france seeks end to russia sanctions over ukraine</td>\n",
              "      <td>china scraps rare earths caps</td>\n",
              "    </tr>\n",
              "  </tbody>\n",
              "</table>\n",
              "</div>"
            ],
            "text/plain": [
              "                                                      0  ...                                                 24\n",
              "3723  most cases of cancer are the result of sheer b...  ...  authorities pull plug on russia s last politic...\n",
              "3724  moscow  gt beijing high speed train will reduc...  ...                      china scraps rare earths caps\n",
              "\n",
              "[2 rows x 25 columns]"
            ]
          },
          "metadata": {
            "tags": []
          },
          "execution_count": 14
        }
      ]
    },
    {
      "cell_type": "code",
      "metadata": {
        "id": "9714c9c4"
      },
      "source": [
        "train_headlines = []\n",
        "for row in range(0,len(train_feature.index)):\n",
        "    train_headlines.append(' '.join(str(x) for x in train_feature.iloc[row,0:25]))"
      ],
      "id": "9714c9c4",
      "execution_count": null,
      "outputs": []
    },
    {
      "cell_type": "code",
      "metadata": {
        "id": "d0815f8a"
      },
      "source": [
        "test_headlines = []\n",
        "for row in range(0,len(test_feature.index)):\n",
        "    test_headlines.append(' '.join(str(x) for x in test_feature.iloc[row,0:25]))"
      ],
      "id": "d0815f8a",
      "execution_count": null,
      "outputs": []
    },
    {
      "cell_type": "code",
      "metadata": {
        "colab": {
          "base_uri": "https://localhost:8080/",
          "height": 108
        },
        "id": "287422e4",
        "outputId": "b84c8338-ff49-415e-a17d-0cad44a8a463"
      },
      "source": [
        "train_headlines[0]"
      ],
      "id": "287422e4",
      "execution_count": null,
      "outputs": [
        {
          "output_type": "execute_result",
          "data": {
            "application/vnd.google.colaboratory.intrinsic+json": {
              "type": "string"
            },
            "text/plain": [
              "'a  hindrance to operations   extracts from the leaked reports scorecard hughes  instant hit buoys blues jack gets his skates on at ice cold alex chaos as maracana builds up for united depleted leicester prevail as elliott spoils everton s party hungry spurs sense rich pickings gunners so wide of an easy target derby raise a glass to strupar s debut double southgate strikes  leeds pay the penalty hammers hand robson a youthful lesson saints party like it s      wear wolves have turned into lambs stump mike catches testy gough s taunt langer escapes to hit     flintoff injury piles on woe for england hunters threaten jospin with new battle of the somme kohl s successor drawn into scandal the difference between men and women sara denver  nurse turned solicitor diana s landmine crusade put tories in a panic yeltsin s resignation caught opposition flat footed russian roulette sold out recovering a title'"
            ]
          },
          "metadata": {
            "tags": []
          },
          "execution_count": 17
        }
      ]
    },
    {
      "cell_type": "code",
      "metadata": {
        "colab": {
          "base_uri": "https://localhost:8080/",
          "height": 108
        },
        "id": "20a3b807",
        "outputId": "f206faad-b994-416b-c492-29079c4846cd"
      },
      "source": [
        "test_headlines[4]"
      ],
      "id": "20a3b807",
      "execution_count": null,
      "outputs": [
        {
          "output_type": "execute_result",
          "data": {
            "application/vnd.google.colaboratory.intrinsic+json": {
              "type": "string"
            },
            "text/plain": [
              "'new charlie hebdo issue to come out next week   it s very hard  we are all suffering  with grief  with fear  but we will do it anyway because stupidity will not win   ahmed merabet  cop killed in paris attacks  was muslim youngest suspect in charlie hebdo attack turns himself in grenades thrown at a mosque in le mans  west of paris danish newspaper to print charlie hebdo cartoons on islam muslim politician from india offers   m to charlie hebdo attackers vladimir putin has condemned a deadly terrorist attack in paris  and confirmed moscows readiness to continue cooperation with france in battling terrorism  putin also expressed his condolences to the victims  families and wished the injured a speedy recovery  turkey is trying to hide any evidence that holds turkish leaders responsible for the support of terrorist groups  especially the islamic state of iraq and syria  isis   turkish media is reporting  danish paper that published    muhammad cartoons boosts security two charlie hebdo attackers located in north france french imam urges muslims to protest over paris attack policewoman shot by gunman near paris dies  police shooting heard on the outskirts of paris    officer severely injured nobody was reported killed by fighting in syria on wednesday  the first day without casualties in three years  after a fierce winter storm quelled violence time to crack down on  islamophobia   turkey s erdogan tells eu thousands in europe hold up pens in solidarity after terrorist attack journalists race to show solidarity with  charlie hebdo  after terror attack antibiotics  us discovery labelled  game changer  for world medicine the charlie hebdo attack condemned by saudi arabia  iran  arab league  and many other muslim states  as well as by union of islamic organizations of france  brisbane man wearing  i m with stupid  t shirt stands with lnp election campaigners  arrested by    officers for public nuisance fourth russian general commits suicide in less than a year  it bears a startling similarity to at least three other recent cases of retired russian generals committing suicide last year meteorite turns night into day over bucharest  romania israeli doctors implant syrian man with titanium jaw in pioneering procedure  unusual metal recovered from ancient greek shipwreck   ingots found in       yr old wreck  metal is being called orichalcum  a legendary metal philosopher plato attributed to atlantis  nothing similar has ever been found  we knew orichalcum from ancient texts  amp  a few ornamental objects  young mother let terrorists into charlie hebdo building after threat against daughter'"
            ]
          },
          "metadata": {
            "tags": []
          },
          "execution_count": 18
        }
      ]
    },
    {
      "cell_type": "code",
      "metadata": {
        "id": "981ea7fe"
      },
      "source": [
        "# sentences = nltk.sent_tokenize(train_headlines[0])\n",
        "# sentences"
      ],
      "id": "981ea7fe",
      "execution_count": null,
      "outputs": []
    },
    {
      "cell_type": "code",
      "metadata": {
        "id": "90de48a8"
      },
      "source": [
        "wordnet = WordNetLemmatizer()\n",
        "ps = PorterStemmer()"
      ],
      "id": "90de48a8",
      "execution_count": null,
      "outputs": []
    },
    {
      "cell_type": "code",
      "metadata": {
        "id": "07874e46"
      },
      "source": [
        "train_headlines1=[]\n",
        "for i in range(len(train_headlines)):\n",
        "    paragrap = train_headlines[i].lower()\n",
        "    words = paragrap.split()\n",
        "#     words = [wordnet.lemmatize(word) for word in words if not word in set(stopwords.words('english'))]\n",
        "#     words = [ps.stem(word) for word in words if not word in set(stopwords.words('english'))]\n",
        "    words = [ word for word in words if not word in set(stopwords.words('english'))]\n",
        "    paragrap = ' '.join(words)\n",
        "    train_headlines1.append(paragrap)\n",
        "    "
      ],
      "id": "07874e46",
      "execution_count": null,
      "outputs": []
    },
    {
      "cell_type": "code",
      "metadata": {
        "colab": {
          "base_uri": "https://localhost:8080/",
          "height": 90
        },
        "id": "4676fc47",
        "outputId": "16e128e3-9d3b-4bf3-a08a-262c6506b090"
      },
      "source": [
        "train_headlines1[0]"
      ],
      "id": "4676fc47",
      "execution_count": null,
      "outputs": [
        {
          "output_type": "execute_result",
          "data": {
            "application/vnd.google.colaboratory.intrinsic+json": {
              "type": "string"
            },
            "text/plain": [
              "'hindrance operations extracts leaked reports scorecard hughes instant hit buoys blues jack gets skates ice cold alex chaos maracana builds united depleted leicester prevail elliott spoils everton party hungry spurs sense rich pickings gunners wide easy target derby raise glass strupar debut double southgate strikes leeds pay penalty hammers hand robson youthful lesson saints party like wear wolves turned lambs stump mike catches testy gough taunt langer escapes hit flintoff injury piles woe england hunters threaten jospin new battle somme kohl successor drawn scandal difference men women sara denver nurse turned solicitor diana landmine crusade put tories panic yeltsin resignation caught opposition flat footed russian roulette sold recovering title'"
            ]
          },
          "metadata": {
            "tags": []
          },
          "execution_count": 22
        }
      ]
    },
    {
      "cell_type": "code",
      "metadata": {
        "id": "3518aa48"
      },
      "source": [
        "test_headlines1=[]\n",
        "for i in range(len(test_headlines)):\n",
        "    paragrap = test_headlines[i].lower()\n",
        "    words = paragrap.split()\n",
        "#     words = [wordnet.lemmatize(word) for word in words if not word in set(stopwords.words('english'))]\n",
        "#     words = [ps.stem(word) for word in words if not word in set(stopwords.words('english'))]\n",
        "    words = [ word for word in words if not word in set(stopwords.words('english'))]\n",
        "    paragrap = ' '.join(words)\n",
        "    test_headlines1.append(paragrap)\n"
      ],
      "id": "3518aa48",
      "execution_count": null,
      "outputs": []
    },
    {
      "cell_type": "code",
      "metadata": {
        "id": "f2ecb0e0"
      },
      "source": [
        "# Training freature\n",
        "\n",
        "from sklearn.feature_extraction.text import CountVectorizer,TfidfVectorizer\n",
        "\n",
        "cv = CountVectorizer()\n",
        "tfid = TfidfVectorizer()\n",
        "x_train_cv_features = cv.fit_transform(train_headlines1).toarray()\n",
        "x_train_tfid_features = tfid.fit_transform(train_headlines1).toarray() \n"
      ],
      "id": "f2ecb0e0",
      "execution_count": null,
      "outputs": []
    },
    {
      "cell_type": "code",
      "metadata": {
        "id": "e4816768"
      },
      "source": [
        "# Testing feature\n",
        "\n",
        "x_test_cv_features = cv.transform(test_headlines1).toarray()\n",
        "x_test_tfid_features = tfid.transform(test_headlines1).toarray()\n"
      ],
      "id": "e4816768",
      "execution_count": null,
      "outputs": []
    },
    {
      "cell_type": "markdown",
      "metadata": {
        "id": "n6kOH3M9rbu4"
      },
      "source": [
        "**1. RandomForestClassifier**\n",
        "\n",
        "---\n",
        "\n"
      ],
      "id": "n6kOH3M9rbu4"
    },
    {
      "cell_type": "code",
      "metadata": {
        "id": "a131ef46"
      },
      "source": [
        "# RandomForestClassifier Model importing\n",
        "\n",
        "from sklearn.ensemble import RandomForestClassifier\n",
        "\n",
        "randomclassifier_Cv = RandomForestClassifier(n_estimators=200,criterion='entropy')\n",
        "randomclassifier_Tfid = RandomForestClassifier(n_estimators=200,criterion='entropy')"
      ],
      "id": "a131ef46",
      "execution_count": null,
      "outputs": []
    },
    {
      "cell_type": "code",
      "metadata": {
        "colab": {
          "base_uri": "https://localhost:8080/"
        },
        "id": "63508794",
        "outputId": "5f83e03f-b777-45d3-c231-c8feef63d110"
      },
      "source": [
        "# RandomForestClassifier Model training\n",
        "\n",
        "randomclassifier_Cv.fit(x_train_cv_features,train_data['Label'])\n",
        "randomclassifier_Tfid.fit(x_train_tfid_features,train_data['Label'])"
      ],
      "id": "63508794",
      "execution_count": null,
      "outputs": [
        {
          "output_type": "execute_result",
          "data": {
            "text/plain": [
              "RandomForestClassifier(bootstrap=True, ccp_alpha=0.0, class_weight=None,\n",
              "                       criterion='entropy', max_depth=None, max_features='auto',\n",
              "                       max_leaf_nodes=None, max_samples=None,\n",
              "                       min_impurity_decrease=0.0, min_impurity_split=None,\n",
              "                       min_samples_leaf=1, min_samples_split=2,\n",
              "                       min_weight_fraction_leaf=0.0, n_estimators=200,\n",
              "                       n_jobs=None, oob_score=False, random_state=None,\n",
              "                       verbose=0, warm_start=False)"
            ]
          },
          "metadata": {
            "tags": []
          },
          "execution_count": 27
        }
      ]
    },
    {
      "cell_type": "code",
      "metadata": {
        "colab": {
          "base_uri": "https://localhost:8080/"
        },
        "id": "8ZC3Ynvop1AX",
        "outputId": "36768aa8-a08f-4115-d3e7-9149d1aa7812"
      },
      "source": [
        "dump(randomclassifier_Cv,'/content/drive/MyDrive/Colab Notebooks/Sentiment analysis and prediction models/randomclassifier_Cv.joblib')\n",
        "dump(randomclassifier_Tfid,'/content/drive/MyDrive/Colab Notebooks/Sentiment analysis and prediction models/randomclassifier_Tfid.joblib')"
      ],
      "id": "8ZC3Ynvop1AX",
      "execution_count": null,
      "outputs": [
        {
          "output_type": "execute_result",
          "data": {
            "text/plain": [
              "['/content/drive/MyDrive/Colab Notebooks/Sentiment analysis and prediction models/randomclassifier_Tfid.joblib']"
            ]
          },
          "metadata": {
            "tags": []
          },
          "execution_count": 47
        }
      ]
    },
    {
      "cell_type": "code",
      "metadata": {
        "id": "fbae9e43"
      },
      "source": [
        "# RandomForestClassifier Model prediction\n",
        "\n",
        "Cv_predictions_1 = randomclassifier_Cv.predict(x_test_cv_features)\n",
        "Tfid_predictions_1 = randomclassifier_Tfid.predict(x_test_tfid_features)\n"
      ],
      "id": "fbae9e43",
      "execution_count": null,
      "outputs": []
    },
    {
      "cell_type": "code",
      "metadata": {
        "colab": {
          "base_uri": "https://localhost:8080/"
        },
        "id": "0d8c3d5e",
        "outputId": "1c623111-952a-4c65-a276-a5869473ffdf"
      },
      "source": [
        "matrix_1 = confusion_matrix(test_data['Label'],Cv_predictions_1)\n",
        "report_1 = classification_report(test_data['Label'],Cv_predictions_1)\n",
        "print(matrix_1)\n",
        "print(\"-----------------------------classification_report RandomForestClassifier (using bag-of-words ) ----------------------------------------------\\n\")\n",
        "print(report_1)\n",
        "print(\"\\n------------------------------------------------------------------------------------------------- ----------------------------------------------\\n\")\n",
        "matrix_1 = confusion_matrix(test_data['Label'],Tfid_predictions_1)\n",
        "report_1 = classification_report(test_data['Label'],Tfid_predictions_1)\n",
        "print(matrix_1)\n",
        "print(\"----------------------------Classification Report RandomForestClassifier (using TF_ID)----------------------------------------------\\n\")\n",
        "print(report_1)"
      ],
      "id": "0d8c3d5e",
      "execution_count": null,
      "outputs": [
        {
          "output_type": "stream",
          "text": [
            "[[146  40]\n",
            " [ 19 173]]\n",
            "-----------------------------classification_report RandomForestClassifier (using bag-of-words ) ----------------------------------------------\n",
            "\n",
            "              precision    recall  f1-score   support\n",
            "\n",
            "           0       0.88      0.78      0.83       186\n",
            "           1       0.81      0.90      0.85       192\n",
            "\n",
            "    accuracy                           0.84       378\n",
            "   macro avg       0.85      0.84      0.84       378\n",
            "weighted avg       0.85      0.84      0.84       378\n",
            "\n",
            "\n",
            "------------------------------------------------------------------------------------------------- ----------------------------------------------\n",
            "\n",
            "[[147  39]\n",
            " [ 21 171]]\n",
            "----------------------------Classification Report RandomForestClassifier (using TF_ID)----------------------------------------------\n",
            "\n",
            "              precision    recall  f1-score   support\n",
            "\n",
            "           0       0.88      0.79      0.83       186\n",
            "           1       0.81      0.89      0.85       192\n",
            "\n",
            "    accuracy                           0.84       378\n",
            "   macro avg       0.84      0.84      0.84       378\n",
            "weighted avg       0.84      0.84      0.84       378\n",
            "\n"
          ],
          "name": "stdout"
        }
      ]
    },
    {
      "cell_type": "markdown",
      "metadata": {
        "id": "KarY01bGsCnv"
      },
      "source": [
        "**2. KNeighborsClassifier**\n",
        "\n",
        "---\n"
      ],
      "id": "KarY01bGsCnv"
    },
    {
      "cell_type": "code",
      "metadata": {
        "colab": {
          "base_uri": "https://localhost:8080/"
        },
        "id": "08d74a22",
        "outputId": "bad0aa01-ee70-44c0-d6c8-b05a64439bae"
      },
      "source": [
        "# KNeighborsClassifier Model importing and training\n",
        "\n",
        "from sklearn.neighbors import KNeighborsClassifier\n",
        "KNNclassifier_Cv = KNeighborsClassifier(n_neighbors=6)\n",
        "KNNclassifier_Tfid = KNeighborsClassifier(n_neighbors=6)\n",
        "\n",
        "KNNclassifier_Cv.fit(x_train_cv_features,train_data['Label'])\n",
        "KNNclassifier_Tfid.fit(x_train_tfid_features,train_data['Label'])"
      ],
      "id": "08d74a22",
      "execution_count": null,
      "outputs": [
        {
          "output_type": "execute_result",
          "data": {
            "text/plain": [
              "KNeighborsClassifier(algorithm='auto', leaf_size=30, metric='minkowski',\n",
              "                     metric_params=None, n_jobs=None, n_neighbors=6, p=2,\n",
              "                     weights='uniform')"
            ]
          },
          "metadata": {
            "tags": []
          },
          "execution_count": 30
        }
      ]
    },
    {
      "cell_type": "code",
      "metadata": {
        "colab": {
          "base_uri": "https://localhost:8080/"
        },
        "id": "vb6pAcb8t1mP",
        "outputId": "839ebcb6-88df-4486-8b1e-f9328d2a1dd0"
      },
      "source": [
        "dump(KNNclassifier_Cv,'/content/drive/MyDrive/Colab Notebooks/Sentiment analysis and prediction models/KNNclassifier_Cv.joblib')\n",
        "dump(KNNclassifier_Tfid,'/content/drive/MyDrive/Colab Notebooks/Sentiment analysis and prediction models/KNNclassifier_Tfid.joblib')"
      ],
      "id": "vb6pAcb8t1mP",
      "execution_count": null,
      "outputs": [
        {
          "output_type": "execute_result",
          "data": {
            "text/plain": [
              "['/content/drive/MyDrive/Colab Notebooks/Sentiment analysis and prediction models/KNNclassifier_Tfid.joblib']"
            ]
          },
          "metadata": {
            "tags": []
          },
          "execution_count": 48
        }
      ]
    },
    {
      "cell_type": "code",
      "metadata": {
        "id": "bJFpAIZPUkEs"
      },
      "source": [
        "# KNeighborsClassifier Model prediction\n",
        "\n",
        "Cv_predictions_2 = KNNclassifier_Cv.predict(x_test_cv_features)\n",
        "Tfid_predictions_2 = KNNclassifier_Tfid.predict(x_test_tfid_features)"
      ],
      "id": "bJFpAIZPUkEs",
      "execution_count": null,
      "outputs": []
    },
    {
      "cell_type": "code",
      "metadata": {
        "colab": {
          "base_uri": "https://localhost:8080/"
        },
        "id": "BtUsKBUDWvb6",
        "outputId": "fb5e93db-51f8-413b-c2ad-11885bc5ef63"
      },
      "source": [
        "matrix_2 = confusion_matrix(test_data['Label'],Cv_predictions_2)\n",
        "report_2 = classification_report(test_data['Label'],Cv_predictions_2)\n",
        "print(matrix_2)\n",
        "print(\"-----------------------------classification Report KNeighborsClassifier Model (using bag-of-words ) ----------------------------------------------\\n\")\n",
        "print(report_2)\n",
        "print(\"\\n------------------------------------------------------------------------------------------------- ----------------------------------------------\\n\")\n",
        "matrix_2 = confusion_matrix(test_data['Label'],Tfid_predictions_2)\n",
        "report = classification_report(test_data['Label'],Tfid_predictions_2)\n",
        "print(matrix_2)\n",
        "print(\"----------------------------Classification Report RandomForestClassifier (using TF_ID)----------------------------------------------\\n\")\n",
        "print(report_2)"
      ],
      "id": "BtUsKBUDWvb6",
      "execution_count": null,
      "outputs": [
        {
          "output_type": "stream",
          "text": [
            "[[ 28 158]\n",
            " [  3 189]]\n",
            "-----------------------------classification Report KNeighborsClassifier Model (using bag-of-words ) ----------------------------------------------\n",
            "\n",
            "              precision    recall  f1-score   support\n",
            "\n",
            "           0       0.90      0.15      0.26       186\n",
            "           1       0.54      0.98      0.70       192\n",
            "\n",
            "    accuracy                           0.57       378\n",
            "   macro avg       0.72      0.57      0.48       378\n",
            "weighted avg       0.72      0.57      0.48       378\n",
            "\n",
            "\n",
            "------------------------------------------------------------------------------------------------- ----------------------------------------------\n",
            "\n",
            "[[132  54]\n",
            " [ 84 108]]\n",
            "----------------------------Classification Report RandomForestClassifier (using TF_ID)----------------------------------------------\n",
            "\n",
            "              precision    recall  f1-score   support\n",
            "\n",
            "           0       0.90      0.15      0.26       186\n",
            "           1       0.54      0.98      0.70       192\n",
            "\n",
            "    accuracy                           0.57       378\n",
            "   macro avg       0.72      0.57      0.48       378\n",
            "weighted avg       0.72      0.57      0.48       378\n",
            "\n"
          ],
          "name": "stdout"
        }
      ]
    },
    {
      "cell_type": "markdown",
      "metadata": {
        "id": "MKAL0nEdszpV"
      },
      "source": [
        "**3. SVM**\n",
        "\n",
        "---\n",
        "\n"
      ],
      "id": "MKAL0nEdszpV"
    },
    {
      "cell_type": "code",
      "metadata": {
        "colab": {
          "base_uri": "https://localhost:8080/"
        },
        "id": "tWQj_KlEXE3n",
        "outputId": "e5d509c3-a19c-4b40-a40a-4e852985d682"
      },
      "source": [
        "from sklearn import svm\n",
        "SVMclf_Cv = svm.SVC()\n",
        "SVMclf_Tfid = svm.SVC()\n",
        "\n",
        "SVMclf_Cv.fit(x_train_cv_features,train_data['Label'])\n",
        "SVMclf_Tfid.fit(x_train_tfid_features,train_data['Label'])"
      ],
      "id": "tWQj_KlEXE3n",
      "execution_count": null,
      "outputs": [
        {
          "output_type": "execute_result",
          "data": {
            "text/plain": [
              "SVC(C=1.0, break_ties=False, cache_size=200, class_weight=None, coef0=0.0,\n",
              "    decision_function_shape='ovr', degree=3, gamma='scale', kernel='rbf',\n",
              "    max_iter=-1, probability=False, random_state=None, shrinking=True,\n",
              "    tol=0.001, verbose=False)"
            ]
          },
          "metadata": {
            "tags": []
          },
          "execution_count": 33
        }
      ]
    },
    {
      "cell_type": "code",
      "metadata": {
        "colab": {
          "base_uri": "https://localhost:8080/"
        },
        "id": "Qi3tO-Thu7qJ",
        "outputId": "2460e5ef-97f6-4d13-91c6-899ae843aef2"
      },
      "source": [
        "dump(SVMclf_Cv,'/content/drive/MyDrive/Colab Notebooks/Sentiment analysis and prediction models/SVMclf_Cv.joblib')\n",
        "dump(SVMclf_Tfid,'/content/drive/MyDrive/Colab Notebooks/Sentiment analysis and prediction models/SVMclf_Tfid.joblib')"
      ],
      "id": "Qi3tO-Thu7qJ",
      "execution_count": null,
      "outputs": [
        {
          "output_type": "execute_result",
          "data": {
            "text/plain": [
              "['/content/drive/MyDrive/Colab Notebooks/Sentiment analysis and prediction models/SVMclf_Tfid.joblib']"
            ]
          },
          "metadata": {
            "tags": []
          },
          "execution_count": 49
        }
      ]
    },
    {
      "cell_type": "code",
      "metadata": {
        "id": "ZZqn2Z5_f78d"
      },
      "source": [
        "# SVM Model prediction\n",
        "\n",
        "Cv_predictions_3 = SVMclf_Cv.predict(x_test_cv_features)\n",
        "Tfid_predictions_3 = SVMclf_Tfid.predict(x_test_tfid_features)"
      ],
      "id": "ZZqn2Z5_f78d",
      "execution_count": null,
      "outputs": []
    },
    {
      "cell_type": "code",
      "metadata": {
        "colab": {
          "base_uri": "https://localhost:8080/"
        },
        "id": "9u0A8s7RdNuR",
        "outputId": "981ec503-54a4-4511-cbf0-7d77e7aec58b"
      },
      "source": [
        "matrix_3 = confusion_matrix(test_data['Label'],Cv_predictions_3)\n",
        "report_3 = classification_report(test_data['Label'],Cv_predictions_3)\n",
        "print(matrix_3)\n",
        "print(\"----------------------------classification_report Support Vector Machines Model (using bag-of-words ) ----------------------------------------------\\n\")\n",
        "print(report_3)\n",
        "print(\"\\n------------------------------------------------------------------------------------------------------------------------------------------------\\n\")\n",
        "matrix_3 = confusion_matrix(test_data['Label'],Tfid_predictions_3)\n",
        "report_3 = classification_report(test_data['Label'],Tfid_predictions_3)\n",
        "print(matrix_3)\n",
        "print(\"----------------------------Classification Report Support Vector Machines Model (using TF_ID)-----------------------------------------------------------\\n\")\n",
        "print(report_3)"
      ],
      "id": "9u0A8s7RdNuR",
      "execution_count": null,
      "outputs": [
        {
          "output_type": "stream",
          "text": [
            "[[134  52]\n",
            " [ 11 181]]\n",
            "----------------------------classification_report Support Vector Machines Model (using bag-of-words ) ----------------------------------------------\n",
            "\n",
            "              precision    recall  f1-score   support\n",
            "\n",
            "           0       0.92      0.72      0.81       186\n",
            "           1       0.78      0.94      0.85       192\n",
            "\n",
            "    accuracy                           0.83       378\n",
            "   macro avg       0.85      0.83      0.83       378\n",
            "weighted avg       0.85      0.83      0.83       378\n",
            "\n",
            "\n",
            "------------------------------------------------------------------------------------------------------------------------------------------------\n",
            "\n",
            "[[132  54]\n",
            " [  4 188]]\n",
            "----------------------------Classification Report Support Vector Machines Model (using TF_ID)-----------------------------------------------------------\n",
            "\n",
            "              precision    recall  f1-score   support\n",
            "\n",
            "           0       0.97      0.71      0.82       186\n",
            "           1       0.78      0.98      0.87       192\n",
            "\n",
            "    accuracy                           0.85       378\n",
            "   macro avg       0.87      0.84      0.84       378\n",
            "weighted avg       0.87      0.85      0.84       378\n",
            "\n"
          ],
          "name": "stdout"
        }
      ]
    },
    {
      "cell_type": "markdown",
      "metadata": {
        "id": "6V_m_CIftAn1"
      },
      "source": [
        "**4. LogisticRegression**\n",
        "\n",
        "---\n",
        "\n"
      ],
      "id": "6V_m_CIftAn1"
    },
    {
      "cell_type": "code",
      "metadata": {
        "colab": {
          "base_uri": "https://localhost:8080/"
        },
        "id": "gbrjxTPSaOcp",
        "outputId": "d47f509f-7638-4fa2-a9af-89b09ace90c6"
      },
      "source": [
        "from sklearn.linear_model import LogisticRegression\n",
        "Logistic_clf_Cv = LogisticRegression(max_iter=500)\n",
        "Logistic_clf_Tfid = LogisticRegression(max_iter=500)\n",
        "\n",
        "Logistic_clf_Cv.fit(x_train_cv_features,train_data['Label'])\n",
        "Logistic_clf_Tfid.fit(x_train_tfid_features,train_data['Label'])"
      ],
      "id": "gbrjxTPSaOcp",
      "execution_count": null,
      "outputs": [
        {
          "output_type": "execute_result",
          "data": {
            "text/plain": [
              "LogisticRegression(C=1.0, class_weight=None, dual=False, fit_intercept=True,\n",
              "                   intercept_scaling=1, l1_ratio=None, max_iter=500,\n",
              "                   multi_class='auto', n_jobs=None, penalty='l2',\n",
              "                   random_state=None, solver='lbfgs', tol=0.0001, verbose=0,\n",
              "                   warm_start=False)"
            ]
          },
          "metadata": {
            "tags": []
          },
          "execution_count": 36
        }
      ]
    },
    {
      "cell_type": "code",
      "metadata": {
        "colab": {
          "base_uri": "https://localhost:8080/"
        },
        "id": "tsSMiCkpvT14",
        "outputId": "bfb5d653-a80a-41ca-e04c-682859ab0c3f"
      },
      "source": [
        "dump(Logistic_clf_Cv,'/content/drive/MyDrive/Colab Notebooks/Sentiment analysis and prediction models/Logistic_clf_Cv.joblib')\n",
        "dump(Logistic_clf_Tfid,'/content/drive/MyDrive/Colab Notebooks/Sentiment analysis and prediction models/Logistic_clf_Tfid.joblib')"
      ],
      "id": "tsSMiCkpvT14",
      "execution_count": null,
      "outputs": [
        {
          "output_type": "execute_result",
          "data": {
            "text/plain": [
              "['/content/drive/MyDrive/Colab Notebooks/Sentiment analysis and prediction models/Logistic_clf_Tfid.joblib']"
            ]
          },
          "metadata": {
            "tags": []
          },
          "execution_count": 50
        }
      ]
    },
    {
      "cell_type": "code",
      "metadata": {
        "id": "dI8rw1ghgNsb"
      },
      "source": [
        "# LogisticRegression Model prediction\n",
        "\n",
        "Cv_predictions_4 = Logistic_clf_Cv.predict(x_test_cv_features)\n",
        "Tfid_predictions_4 = Logistic_clf_Tfid.predict(x_test_tfid_features)"
      ],
      "id": "dI8rw1ghgNsb",
      "execution_count": null,
      "outputs": []
    },
    {
      "cell_type": "code",
      "metadata": {
        "id": "KpytxBrPdpsQ",
        "colab": {
          "base_uri": "https://localhost:8080/"
        },
        "outputId": "ddc02260-ba3c-408e-8327-fd9176e0e7d7"
      },
      "source": [
        "matrix_4 = confusion_matrix(test_data['Label'],Cv_predictions_4)\n",
        "report_4 = classification_report(test_data['Label'],Cv_predictions_4)\n",
        "print(matrix_4)\n",
        "print(\"----------------------------classification_report LogisticRegression Model (using bag-of-words ) -------------------------------------------------\\n\")\n",
        "print(report_4)\n",
        "print(\"\\n------------------------------------------------------------------------------------------------------------------------------------------------\\n\")\n",
        "matrix_4 = confusion_matrix(test_data['Label'],Tfid_predictions_4)\n",
        "report_4 = classification_report(test_data['Label'],Tfid_predictions_4)\n",
        "print(matrix_4)\n",
        "print(\"----------------------------Classification Report LogisticRegression Model (using TF_ID)-----------------------------------------------------------\\n\")\n",
        "print(report_4)"
      ],
      "id": "KpytxBrPdpsQ",
      "execution_count": null,
      "outputs": [
        {
          "output_type": "stream",
          "text": [
            "[[151  35]\n",
            " [ 27 165]]\n",
            "----------------------------classification_report LogisticRegression Model (using bag-of-words ) -------------------------------------------------\n",
            "\n",
            "              precision    recall  f1-score   support\n",
            "\n",
            "           0       0.85      0.81      0.83       186\n",
            "           1       0.82      0.86      0.84       192\n",
            "\n",
            "    accuracy                           0.84       378\n",
            "   macro avg       0.84      0.84      0.84       378\n",
            "weighted avg       0.84      0.84      0.84       378\n",
            "\n",
            "\n",
            "------------------------------------------------------------------------------------------------------------------------------------------------\n",
            "\n",
            "[[130  56]\n",
            " [ 14 178]]\n",
            "----------------------------Classification Report LogisticRegression Model (using TF_ID)-----------------------------------------------------------\n",
            "\n",
            "              precision    recall  f1-score   support\n",
            "\n",
            "           0       0.90      0.70      0.79       186\n",
            "           1       0.76      0.93      0.84       192\n",
            "\n",
            "    accuracy                           0.81       378\n",
            "   macro avg       0.83      0.81      0.81       378\n",
            "weighted avg       0.83      0.81      0.81       378\n",
            "\n"
          ],
          "name": "stdout"
        }
      ]
    },
    {
      "cell_type": "markdown",
      "metadata": {
        "id": "VPfxN_RPtKyp"
      },
      "source": [
        "**5. DecisionTreeClassifier**\n",
        "\n",
        "---\n"
      ],
      "id": "VPfxN_RPtKyp"
    },
    {
      "cell_type": "code",
      "metadata": {
        "colab": {
          "base_uri": "https://localhost:8080/"
        },
        "id": "efhUHbdXba6g",
        "outputId": "e3a16b50-ecfe-43ef-b92c-eb1c4d10caed"
      },
      "source": [
        "from sklearn.tree import DecisionTreeClassifier\n",
        "DecisionTree_clf_Cv = DecisionTreeClassifier(random_state=0)\n",
        "DecisionTree_clf_Tfid = DecisionTreeClassifier(random_state=0)\n",
        "\n",
        "DecisionTree_clf_Cv.fit(x_train_cv_features,train_data['Label'])\n",
        "DecisionTree_clf_Tfid.fit(x_train_tfid_features,train_data['Label'])"
      ],
      "id": "efhUHbdXba6g",
      "execution_count": null,
      "outputs": [
        {
          "output_type": "execute_result",
          "data": {
            "text/plain": [
              "DecisionTreeClassifier(ccp_alpha=0.0, class_weight=None, criterion='gini',\n",
              "                       max_depth=None, max_features=None, max_leaf_nodes=None,\n",
              "                       min_impurity_decrease=0.0, min_impurity_split=None,\n",
              "                       min_samples_leaf=1, min_samples_split=2,\n",
              "                       min_weight_fraction_leaf=0.0, presort='deprecated',\n",
              "                       random_state=0, splitter='best')"
            ]
          },
          "metadata": {
            "tags": []
          },
          "execution_count": 39
        }
      ]
    },
    {
      "cell_type": "code",
      "metadata": {
        "colab": {
          "base_uri": "https://localhost:8080/"
        },
        "id": "OTdR8c3gvoBG",
        "outputId": "3f8764a5-d9d0-4214-9a3f-81fe5bd0922b"
      },
      "source": [
        "dump(DecisionTree_clf_Cv,'/content/drive/MyDrive/Colab Notebooks/Sentiment analysis and prediction models/DecisionTree_clf_Cv.joblib')\n",
        "dump(DecisionTree_clf_Tfid,'/content/drive/MyDrive/Colab Notebooks/Sentiment analysis and prediction models/DecisionTree_clf_Tfid.joblib')"
      ],
      "id": "OTdR8c3gvoBG",
      "execution_count": null,
      "outputs": [
        {
          "output_type": "execute_result",
          "data": {
            "text/plain": [
              "['/content/drive/MyDrive/Colab Notebooks/Sentiment analysis and prediction models/DecisionTree_clf_Tfid.joblib']"
            ]
          },
          "metadata": {
            "tags": []
          },
          "execution_count": 51
        }
      ]
    },
    {
      "cell_type": "code",
      "metadata": {
        "id": "wGXLck0QgZzA"
      },
      "source": [
        "# DecisionTreeClassifier Model prediction\n",
        "\n",
        "Cv_predictions_5 = DecisionTree_clf_Cv.predict(x_test_cv_features)\n",
        "Tfid_predictions_5 = DecisionTree_clf_Tfid.predict(x_test_tfid_features)"
      ],
      "id": "wGXLck0QgZzA",
      "execution_count": null,
      "outputs": []
    },
    {
      "cell_type": "code",
      "metadata": {
        "id": "QlrsJPsJeUec",
        "colab": {
          "base_uri": "https://localhost:8080/"
        },
        "outputId": "4aca2690-f6a1-41fa-a0e6-df94486f39d0"
      },
      "source": [
        "matrix_5 = confusion_matrix(test_data['Label'],Cv_predictions_5)\n",
        "report_5 = classification_report(test_data['Label'],Cv_predictions_5)\n",
        "print(matrix_5)\n",
        "print(\"----------------------------classification_report DecisionTreeClassifier Model (using bag-of-words ) ---------------------------------------------\\n\")\n",
        "print(report_5)\n",
        "print(\"\\n------------------------------------------------------------------------------------------------------------------------------------------------\\n\")\n",
        "matrix_5 = confusion_matrix(test_data['Label'],Tfid_predictions_5)\n",
        "report = classification_report(test_data['Label'],Tfid_predictions_5)\n",
        "print(matrix_5)\n",
        "print(\"----------------------------Classification Report DecisionTreeClassifier Model (using TF_ID)-------------------------------------------------------\\n\")\n",
        "print(report_5)"
      ],
      "id": "QlrsJPsJeUec",
      "execution_count": null,
      "outputs": [
        {
          "output_type": "stream",
          "text": [
            "[[162  24]\n",
            " [ 32 160]]\n",
            "----------------------------classification_report DecisionTreeClassifier Model (using bag-of-words ) ---------------------------------------------\n",
            "\n",
            "              precision    recall  f1-score   support\n",
            "\n",
            "           0       0.84      0.87      0.85       186\n",
            "           1       0.87      0.83      0.85       192\n",
            "\n",
            "    accuracy                           0.85       378\n",
            "   macro avg       0.85      0.85      0.85       378\n",
            "weighted avg       0.85      0.85      0.85       378\n",
            "\n",
            "\n",
            "------------------------------------------------------------------------------------------------------------------------------------------------\n",
            "\n",
            "[[153  33]\n",
            " [ 34 158]]\n",
            "----------------------------Classification Report DecisionTreeClassifier Model (using TF_ID)-------------------------------------------------------\n",
            "\n",
            "              precision    recall  f1-score   support\n",
            "\n",
            "           0       0.84      0.87      0.85       186\n",
            "           1       0.87      0.83      0.85       192\n",
            "\n",
            "    accuracy                           0.85       378\n",
            "   macro avg       0.85      0.85      0.85       378\n",
            "weighted avg       0.85      0.85      0.85       378\n",
            "\n"
          ],
          "name": "stdout"
        }
      ]
    },
    {
      "cell_type": "code",
      "metadata": {
        "id": "XkmQO56eprB-"
      },
      "source": [
        ""
      ],
      "id": "XkmQO56eprB-",
      "execution_count": null,
      "outputs": []
    }
  ]
}